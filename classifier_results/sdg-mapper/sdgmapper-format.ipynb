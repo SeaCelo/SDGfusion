{
 "cells": [
  {
   "cell_type": "markdown",
   "id": "2a5640ce-008d-44e1-8f84-d1da0e9aa21d",
   "metadata": {},
   "source": [
    "SDG Mapper API\n",
    "https://knowsdgs.jrc.ec.europa.eu/sdgmapper#learn\n",
    "\n",
    "The online tool lets you submit large batches, but it seems to have an unofficial limit of 200 documents. \n",
    "\n",
    "This is good. But the results need to be processed since they are ordered by SDG individually\n",
    "\n",
    "This fixes it.\n",
    "The first row are variable names. After that each 2 rows are for a certain document. For example, row 2 indicates the SDG and row 3 indicates the corresponding percentage for that SDG. I want to order each document by the SDG number instead of ordered by percentage. \n"
   ]
  },
  {
   "cell_type": "code",
   "execution_count": 17,
   "id": "9837bf61-78af-45ea-80d1-91fee420b611",
   "metadata": {
    "tags": []
   },
   "outputs": [],
   "source": [
    "# Here we use the original format of the results without manually adjusting it first. \n",
    "# Just need to create the .csv input file first from the SDG Mapper results\n",
    "\n",
    "import pandas as pd\n",
    "\n",
    "# Load the CSV file\n",
    "df = pd.read_csv('/Users/mlafleur/Projects/SDGfusion/classifier results/sdg-mapper/sdgmapper-input.csv')\n",
    "\n",
    "# Create an empty DataFrame to hold the reformatted data\n",
    "output_df = pd.DataFrame(columns=['Document', 'SDG 1', 'SDG 2', 'SDG 3', 'SDG 4', 'SDG 5', 'SDG 6', 'SDG 7', 'SDG 8', 'SDG 9', 'SDG 10', 'SDG 11', 'SDG 12', 'SDG 13', 'SDG 14', 'SDG 15', 'SDG 16', 'SDG 17'])\n",
    "\n",
    "# Iterate through the DataFrame three rows at a time\n",
    "for i in range(0, len(df), 3):\n",
    "    doc_name = df.loc[i, 'Document']\n",
    "    sdgs = df.loc[i, '1st':'17th'].values\n",
    "    # counts = df.loc[i + 1, '1st':'17th'].values  # Uncomment if you need counts for future use\n",
    "    percentages = df.loc[i + 2, '1st':'17th'].values\n",
    "    \n",
    "    # Pair SDGs with their percentages\n",
    "    sdg_percent_dict = {sdg: perc for sdg, perc in zip(sdgs, percentages)}\n",
    "    \n",
    "    # Sort SDGs\n",
    "    sorted_sdgs = sorted(sdg_percent_dict.keys())\n",
    "    \n",
    "    # Create a new row for the output DataFrame\n",
    "    new_row = {'Document': doc_name}\n",
    "    for sdg in sorted_sdgs:\n",
    "        new_row[sdg] = sdg_percent_dict[sdg]\n",
    "        \n",
    "    # Append the new row to the output DataFrame using pd.concat\n",
    "    output_df = pd.concat([output_df, pd.DataFrame([new_row])], ignore_index=True)\n",
    "\n",
    "# Write the output DataFrame to a new CSV file\n",
    "output_df.to_csv('sdgmapper-output.csv', index=False)\n",
    "\n",
    "\n",
    "\n"
   ]
  }
 ],
 "metadata": {
  "kernelspec": {
   "display_name": "Python 3 (ipykernel)",
   "language": "python",
   "name": "python3"
  },
  "language_info": {
   "codemirror_mode": {
    "name": "ipython",
    "version": 3
   },
   "file_extension": ".py",
   "mimetype": "text/x-python",
   "name": "python",
   "nbconvert_exporter": "python",
   "pygments_lexer": "ipython3",
   "version": "3.9.17"
  }
 },
 "nbformat": 4,
 "nbformat_minor": 5
}
