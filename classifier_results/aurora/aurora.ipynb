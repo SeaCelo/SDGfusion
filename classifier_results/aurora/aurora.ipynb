{
 "cells": [
  {
   "cell_type": "markdown",
   "id": "3e617c7f-4fd8-4793-ad9a-4e8217a68d63",
   "metadata": {},
   "source": [
    "Aurora: \n",
    "\n",
    "API is here: https://aurora-universities.eu/sdg-research/sdg-api/\n",
    "\n",
    "Conda env: aurora\n",
    "\n",
    "\n",
    "\n",
    "SDG BERT - Multi-language Multi-label BERT model for classifying texts to Sustainable Development Goals (SDGs) based on Aurora SDG Query Model v5\n"
   ]
  },
  {
   "cell_type": "code",
   "execution_count": 2,
   "id": "5c36e5ee-92e6-4692-afca-738df1566e5f",
   "metadata": {
    "tags": []
   },
   "outputs": [
    {
     "name": "stdout",
     "output_type": "stream",
     "text": [
      "<html>\n",
      "<head><title>502 Bad Gateway</title></head>\n",
      "<body>\n",
      "<center><h1>502 Bad Gateway</h1></center>\n",
      "<hr><center>nginx</center>\n",
      "</body>\n",
      "</html>\n",
      "\n"
     ]
    }
   ],
   "source": [
    "import requests\n",
    "import json\n",
    "\n",
    "url = \"https://aurora-sdg.labs.vu.nl/classifier/classify/aurora-sdg-multi\"\n",
    "\n",
    "payload = json.dumps({\"text\": \"The Aurora SDG classifier rocks\"})\n",
    "headers = {'Content-Type': 'application/json'}\n",
    "\n",
    "response = requests.request(\"POST\", url, headers=headers, data=payload)\n",
    "\n",
    "print(response.text)"
   ]
  },
  {
   "cell_type": "code",
   "execution_count": null,
   "id": "0e0a8303-faef-41db-a0b2-035345c3408c",
   "metadata": {},
   "outputs": [],
   "source": []
  }
 ],
 "metadata": {
  "kernelspec": {
   "display_name": "Python 3 (ipykernel)",
   "language": "python",
   "name": "python3"
  },
  "language_info": {
   "codemirror_mode": {
    "name": "ipython",
    "version": 3
   },
   "file_extension": ".py",
   "mimetype": "text/x-python",
   "name": "python",
   "nbconvert_exporter": "python",
   "pygments_lexer": "ipython3",
   "version": "3.9.17"
  }
 },
 "nbformat": 4,
 "nbformat_minor": 5
}
